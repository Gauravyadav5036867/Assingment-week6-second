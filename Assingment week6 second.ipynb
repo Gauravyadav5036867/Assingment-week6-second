{
 "cells": [
  {
   "cell_type": "code",
   "execution_count": 1,
   "id": "3e404a5b-67d6-4445-a432-60fe0cad815e",
   "metadata": {},
   "outputs": [],
   "source": [
    "#Question1"
   ]
  },
  {
   "cell_type": "code",
   "execution_count": null,
   "id": "9f3144e2-72ae-417a-a2ea-89e36b9bdd77",
   "metadata": {},
   "outputs": [],
   "source": [
    "MongoDB is an open-source document-oriented database that is designed to store a large scale of data and also allows you to work with that data very efficiently. It is categorized under the NoSQL (Not only SQL) database because the storage and retrieval of data in the MongoDB are not in the form of tables.\n",
    "Non-relational databases are therefore ideal for storing data that may be changed frequently or for applications that handle many different kinds of data. They can support rapidly developing applications requiring a dynamic database able to change quickly and to accommodate large amounts of complex, unstructured data."
   ]
  },
  {
   "cell_type": "code",
   "execution_count": 2,
   "id": "6a601748-70be-4130-a6f6-8e7e83380ead",
   "metadata": {},
   "outputs": [],
   "source": [
    "#Question2"
   ]
  },
  {
   "cell_type": "code",
   "execution_count": null,
   "id": "d641f829-59e4-402a-a6d7-182b584b067e",
   "metadata": {},
   "outputs": [],
   "source": [
    "MongoDB is a schema-less database, which means the database can manage data without the need for a blueprint. Document. Data in MongoDB is stored in documents with key-value pairs instead of rows and columns, which makes the data more flexible when compared to SQL databases."
   ]
  },
  {
   "cell_type": "code",
   "execution_count": 3,
   "id": "6582e633-4e59-47f4-9f55-32d9a84f376b",
   "metadata": {},
   "outputs": [],
   "source": [
    "#Question3"
   ]
  },
  {
   "cell_type": "code",
   "execution_count": null,
   "id": "a2e3a912-1ca4-46ea-9d37-32825cef1902",
   "metadata": {},
   "outputs": [],
   "source": [
    "import mysql.connector\n",
    "\n",
    "db_connection = mysql.connector.connect(\n",
    "    host=\"your_host\",\n",
    "    user=\"your_username\",\n",
    "    password=\"your_password\",\n",
    "    database=\"your_database\"\n",
    ")\n",
    "\n",
    "cursor = db_connection.cursor()\n",
    "\n",
    "cursor.execute(\"SELECT * FROM your_table\")\n",
    "\n",
    "results = cursor.fetchall()\n",
    "\n",
    "for row in results:\n",
    "    print(row)\n",
    "\n",
    "insert_query = \"INSERT INTO your_table (column1, column2) VALUES (%s, %s)\"\n",
    "values = (\"value1\", \"value2\")\n",
    "\n",
    "cursor.execute(insert_query, values)\n",
    "\n",
    "db_connection.commit()\n",
    "\n",
    "update_query = \"UPDATE your_table SET column1 = %s WHERE column2 = %s\"\n",
    "new_value = \"new_value\"\n",
    "old_value = \"value2\"\n",
    "\n",
    "cursor.execute(update_query, (new_value, old_value))\n",
    "\n",
    "db_connection.commit()\n",
    "\n",
    "delete_query = \"DELETE FROM your_table WHERE column1 = %s\"\n",
    "value_to_delete = \"value1\"\n",
    "\n",
    "cursor.execute(delete_query, (value_to_delete,))\n",
    "\n",
    "db_connection.commit()\n",
    "\n",
    "cursor.close()\n",
    "db_connection.close()\n",
    "\n",
    "\n"
   ]
  },
  {
   "cell_type": "code",
   "execution_count": null,
   "id": "c768b937-4474-4ebb-b625-06b37751b836",
   "metadata": {},
   "outputs": [],
   "source": [
    "// Insert a document into the \"mycollection\" collection\n",
    "db.mycollection.insertOne({\n",
    "    name: \"John Doe\",\n",
    "    age: 30,\n",
    "    email: \"johndoe@example.com\"\n",
    "})\n"
   ]
  },
  {
   "cell_type": "code",
   "execution_count": 4,
   "id": "ab33854c-0c36-4631-90bf-6c7e3447bc0b",
   "metadata": {},
   "outputs": [],
   "source": [
    "#Question4"
   ]
  },
  {
   "cell_type": "code",
   "execution_count": null,
   "id": "8ba0a61f-0f99-4fed-a61e-4b0f4cf92046",
   "metadata": {},
   "outputs": [],
   "source": [
    "// Connect to the MongoDB server and select the \"mydatabase\" database\n",
    "var db = connect(\"localhost:27017/mydatabase\");\n",
    "\n",
    "// Create a reference to the \"mycollection\" collection\n",
    "var collection = db.mycollection;\n",
    "\n",
    "// Insert one record\n",
    "var singleRecord = {\n",
    "    name: \"Jane Smith\",\n",
    "    age: 28,\n",
    "    email: \"jane.smith@example.com\"\n",
    "};\n",
    "\n",
    "collection.insertOne(singleRecord);\n",
    "\n",
    "print(\"Inserted single record:\");\n",
    "printjson(singleRecord);\n",
    "\n",
    "// Insert many records\n",
    "var manyRecords = [\n",
    "    {\n",
    "        name: \"Bob Johnson\",\n",
    "        age: 35,\n",
    "        email: \"bob.johnson@example.com\"\n",
    "    },\n",
    "    {\n",
    "        name: \"Alice Brown\",\n",
    "        age: 25,\n",
    "        email: \"alice.brown@example.com\"\n",
    "    },\n",
    "    {\n",
    "        name: \"Carol Davis\",\n",
    "        age: 32,\n",
    "        email: \"carol.davis@example.com\"\n",
    "    }\n",
    "];\n",
    "\n",
    "collection.insertMany(manyRecords);\n",
    "\n",
    "print(\"\\nInserted many records:\");\n",
    "manyRecords.forEach(function (record) {\n",
    "    printjson(record);\n",
    "});\n",
    "\n",
    "// Find and print one record\n",
    "var foundRecord = collection.findOne({ name: \"Jane Smith\" });\n",
    "print(\"\\nFound record using find_one():\");\n",
    "printjson(foundRecord);\n",
    "\n",
    "// Find and print all records\n",
    "var allRecords = collection.find().toArray();\n",
    "print(\"\\nAll records found using find():\");\n",
    "allRecords.forEach(function (record) {\n",
    "    printjson(record);\n",
    "});\n"
   ]
  },
  {
   "cell_type": "code",
   "execution_count": 5,
   "id": "d678f9a6-ec2b-4a3b-9fd7-4e48912cd3b2",
   "metadata": {},
   "outputs": [],
   "source": [
    "#Question5"
   ]
  },
  {
   "cell_type": "code",
   "execution_count": null,
   "id": "f730161e-005d-48fc-b54e-a1bcf6a392b4",
   "metadata": {},
   "outputs": [],
   "source": [
    "In MongoDB, the find() method is used to query a collection and retrieve documents that match specific criteria. It allows you to filter documents based on conditions and retrieve the results as a cursor, which you can iterate over to access the matched documents.\n"
   ]
  },
  {
   "cell_type": "code",
   "execution_count": null,
   "id": "83f46c91-396a-4a1d-ab63-bd1e47e6261f",
   "metadata": {},
   "outputs": [],
   "source": [
    "// Connect to the MongoDB server and select the \"mydatabase\" database\n",
    "var db = connect(\"localhost:27017/mydatabase\");\n",
    "\n",
    "// Create a reference to the \"students\" collection\n",
    "var studentsCollection = db.students;\n",
    "\n",
    "// Use the find() method to retrieve all documents in the collection\n",
    "var allStudents = studentsCollection.find();\n",
    "\n",
    "// Iterate over the cursor to access the matched documents\n",
    "print(\"All students:\");\n",
    "allStudents.forEach(function (student) {\n",
    "    printjson(student);\n",
    "});\n",
    "\n",
    "// Use the find() method with a query to retrieve specific documents\n",
    "var maleStudents = studentsCollection.find({ gender: \"Male\" });\n",
    "\n",
    "print(\"\\nMale students:\");\n",
    "maleStudents.forEach(function (student) {\n",
    "    printjson(student);\n",
    "});\n",
    "\n",
    "// Use projection to exclude the \"_id\" field from the result\n",
    "var femaleStudents = studentsCollection.find(\n",
    "    { gender: \"Female\" },\n",
    "    { _id: 0 }\n",
    ");\n",
    "\n",
    "print(\"\\nFemale students without _id field:\");\n",
    "femaleStudents.forEach(function (student) {\n",
    "    printjson(student);\n",
    "});\n"
   ]
  },
  {
   "cell_type": "code",
   "execution_count": 6,
   "id": "5773cebc-47b1-44ba-9c4d-fa708bbeffd7",
   "metadata": {},
   "outputs": [],
   "source": [
    "#Question6"
   ]
  },
  {
   "cell_type": "code",
   "execution_count": null,
   "id": "630b93b9-6d56-4b9c-a0c2-04c3526fc745",
   "metadata": {},
   "outputs": [],
   "source": [
    "The sort() sorts the elements of an array. The sort() overwrites the original array. The sort() sorts the elements as strings in alphabetical and ascending order.\n"
   ]
  },
  {
   "cell_type": "code",
   "execution_count": null,
   "id": "32c534b6-e7c3-45df-9cfe-cf883373ac36",
   "metadata": {},
   "outputs": [],
   "source": [
    "Books sorted by published year (ascending):\n",
    "{\n",
    "    \"_id\": 4,\n",
    "    \"title\": \"Pride and Prejudice\",\n",
    "    \"author\": \"Jane Austen\",\n",
    "    \"published_year\": 1813,\n",
    "    \"rating\": 4.6\n",
    "}\n",
    "{\n",
    "    \"_id\": 3,\n",
    "    \"title\": \"1984\",\n",
    "    \"author\": \"George Orwell\",\n",
    "    \"published_year\": 1949,\n",
    "    \"rating\": 4.8\n",
    "}\n",
    "{\n",
    "    \"_id\": 1,\n",
    "    \"title\": \"The Great Gatsby\",\n",
    "    \"author\": \"F. Scott Fitzgerald\",\n",
    "    \"published_year\": 1925,\n",
    "    \"rating\": 4.5\n",
    "}\n",
    "{\n",
    "    \"_id\": 2,\n",
    "    \"title\": \"To Kill a Mockingbird\",\n",
    "    \"author\": \"Harper Lee\",\n",
    "    \"published_year\": 1960,\n",
    "    \"rating\": 4.7\n",
    "}\n"
   ]
  },
  {
   "cell_type": "code",
   "execution_count": 7,
   "id": "1ba6daa4-683e-471c-8c6d-6b8851e7da70",
   "metadata": {},
   "outputs": [],
   "source": [
    "#Question7"
   ]
  },
  {
   "cell_type": "code",
   "execution_count": null,
   "id": "8f3ecfaa-5466-44dc-81c4-5a0b11c13818",
   "metadata": {},
   "outputs": [],
   "source": []
  }
 ],
 "metadata": {
  "kernelspec": {
   "display_name": "Python 3 (ipykernel)",
   "language": "python",
   "name": "python3"
  },
  "language_info": {
   "codemirror_mode": {
    "name": "ipython",
    "version": 3
   },
   "file_extension": ".py",
   "mimetype": "text/x-python",
   "name": "python",
   "nbconvert_exporter": "python",
   "pygments_lexer": "ipython3",
   "version": "3.10.8"
  }
 },
 "nbformat": 4,
 "nbformat_minor": 5
}
